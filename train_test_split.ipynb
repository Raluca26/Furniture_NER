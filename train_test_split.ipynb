{
 "cells": [
  {
   "cell_type": "code",
   "execution_count": 1,
   "id": "bc225d70",
   "metadata": {},
   "outputs": [],
   "source": [
    "import json\n",
    "from sklearn.model_selection import train_test_split\n",
    "\n",
    "# Load the data stored in annotated_output.json\n",
    "with open('../veridion-5/data/annotated_output.json', 'r', encoding='utf-8') as f:\n",
    "    data = json.load(f)\n",
    "\n",
    "# Filter out entries without text content\n",
    "data_with_text_content = [entry for entry in data if entry.get('text_content')]\n",
    "\n",
    "# Tokenize the text_content and add the words field to each entry\n",
    "for entry in data_with_text_content:\n",
    "    entry['words'] = entry['text_content'].split()\n",
    "    del entry['text_content']  # Remove text_content field as it's no longer needed\n",
    "\n",
    "# Split the data into train and test sets \n",
    "train_data, test_data = train_test_split(data_with_text_content, test_size=0.1, random_state=42)\n",
    "\n",
    "# Function to save in test and train json files for NER task\n",
    "def save_to_json(data, filename):\n",
    "    formatted_data = []\n",
    "    for entry in data:\n",
    "        formatted_entry = {\n",
    "            \"url\": entry[\"url\"],\n",
    "            \"words\": entry[\"words\"],\n",
    "            \"ner_tags\": entry[\"tags\"]\n",
    "        }\n",
    "        formatted_data.append(formatted_entry)\n",
    "    with open(filename, 'w', encoding='utf-8') as f:\n",
    "        json.dump(formatted_data, f, ensure_ascii=False, indent=2)\n",
    "\n",
    "# Save the train and test data into json files\n",
    "save_to_json(train_data, 'data/train_data.json')\n",
    "save_to_json(test_data, 'data/test_data.json')\n",
    "\n"
   ]
  },
  {
   "cell_type": "code",
   "execution_count": null,
   "id": "2c98e3d3",
   "metadata": {},
   "outputs": [],
   "source": []
  }
 ],
 "metadata": {
  "kernelspec": {
   "display_name": "Python 3 (ipykernel)",
   "language": "python",
   "name": "python3"
  },
  "language_info": {
   "codemirror_mode": {
    "name": "ipython",
    "version": 3
   },
   "file_extension": ".py",
   "mimetype": "text/x-python",
   "name": "python",
   "nbconvert_exporter": "python",
   "pygments_lexer": "ipython3",
   "version": "3.9.7"
  }
 },
 "nbformat": 4,
 "nbformat_minor": 5
}
